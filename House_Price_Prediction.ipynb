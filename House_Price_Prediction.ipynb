{
 "cells": [
  {
   "cell_type": "code",
   "execution_count": null,
   "id": "1b4cc133",
   "metadata": {},
   "outputs": [],
   "source": [
    "import warnings\n",
    "warnings.filterwarnings('ignore')\n",
    "\n",
    "# DATA MANIPULATION\n",
    "import pandas as pd\n",
    "import numpy as np\n",
    "import math\n",
    "\n",
    "# DATA VISUALIZATION\n",
    "import matplotlib.pyplot as plt\n",
    "import seaborn as sns\n",
    "%matplotlib inline\n",
    "\n",
    "# Modeling\n",
    "from sklearn.model_selection import train_test_split, GridSearchCV\n",
    "from sklearn.linear_model import LinearRegression\n",
    "from sklearn.tree import DecisionTreeRegressor\n",
    "from xgboost import XGBRegressor\n",
    "from sklearn.metrics import mean_squared_error,mean_absolute_error\n",
    "from sklearn.preprocessing import StandardScaler\n",
    "from sklearn.svm import SVR\n",
    "from sklearn.decomposition import PCA\n",
    "\n",
    "# Interaction\n",
    "from ipywidgets import widgets, interact"
   ]
  },
  {
   "cell_type": "code",
   "execution_count": null,
   "id": "3c6d87bd",
   "metadata": {},
   "outputs": [],
   "source": [
    "import numpy as np\n",
    "import math\n"
   ]
  },
  {
   "cell_type": "code",
   "execution_count": null,
   "id": "26445470",
   "metadata": {},
   "outputs": [],
   "source": [
    "\n",
    "# DATA VISUALIZATION\n",
    "import matplotlib.pyplot as plt\n",
    "import seaborn as sns\n",
    "%matplotlib inline\n",
    "\n",
    "# Modeling\n",
    "from sklearn.model_selection import train_test_split, GridSearchCV\n",
    "from sklearn.linear_model import LinearRegression\n",
    "from sklearn.tree import DecisionTreeRegressor\n",
    "from xgboost import XGBRegressor\n",
    "from sklearn.metrics import mean_squared_error,mean_absolute_error\n",
    "from sklearn.preprocessing import StandardScaler\n",
    "from sklearn.svm import SVR\n",
    "from sklearn.decomposition import PCA\n",
    "\n",
    "# Interaction\n",
    "from ipywidgets import widgets, interact"
   ]
  },
  {
   "cell_type": "code",
   "execution_count": null,
   "id": "3cfd0203",
   "metadata": {},
   "outputs": [],
   "source": [
    "raw_data = pd.read_csv('kc_house_data.csv')\n",
    "df = raw_data.copy()\n",
    "df.head()"
   ]
  },
  {
   "cell_type": "code",
   "execution_count": null,
   "id": "309aa894",
   "metadata": {},
   "outputs": [],
   "source": []
  },
  {
   "cell_type": "code",
   "execution_count": null,
   "id": "ad002ee9",
   "metadata": {},
   "outputs": [],
   "source": [
    "df.sample(1).iloc[0]"
   ]
  },
  {
   "cell_type": "code",
   "execution_count": null,
   "id": "66daccda",
   "metadata": {},
   "outputs": [],
   "source": [
    "print(\"There are {} observations and {} features in this dataset. \\n\".format(df.shape[0],df.shape[1]))"
   ]
  },
  {
   "cell_type": "code",
   "execution_count": null,
   "id": "e3b274a2",
   "metadata": {},
   "outputs": [],
   "source": [
    "df.info()"
   ]
  },
  {
   "cell_type": "code",
   "execution_count": null,
   "id": "44392add",
   "metadata": {},
   "outputs": [],
   "source": [
    "print(\"Number of Duplicated Data:\",df.duplicated().sum())"
   ]
  },
  {
   "cell_type": "code",
   "execution_count": null,
   "id": "084da2ee",
   "metadata": {},
   "outputs": [],
   "source": [
    "print(\"Number of Missing Values:\\n\",df.isna().sum())"
   ]
  },
  {
   "cell_type": "code",
   "execution_count": null,
   "id": "97230d63",
   "metadata": {},
   "outputs": [],
   "source": [
    "df.describe()"
   ]
  },
  {
   "cell_type": "code",
   "execution_count": null,
   "id": "e80cfea2",
   "metadata": {},
   "outputs": [],
   "source": [
    "# Showing the main charactaristics of each column in the dataset\n",
    "@interact(column = df.columns)\n",
    "def column_info(column):\n",
    "    print(\"*\" * 10, column, \"*\" * 10)\n",
    "    display(df[column].value_counts())\n",
    "    print(\"-\" * 30)\n",
    "    display(df[column].describe())\n",
    "    print(\"=\" * 40)"
   ]
  },
  {
   "cell_type": "code",
   "execution_count": null,
   "id": "536fcee0",
   "metadata": {},
   "outputs": [],
   "source": [
    "# Convert (\"date\") column into datetime.\n",
    "df[\"date\"] = pd.to_datetime(df['date'])"
   ]
  },
  {
   "cell_type": "code",
   "execution_count": null,
   "id": "a841258f",
   "metadata": {},
   "outputs": [],
   "source": [
    "# make a new columns from date column\n",
    "df['year'] = df['date'].dt.year\n",
    "df['month'] = df['date'].dt.month"
   ]
  },
  {
   "cell_type": "code",
   "execution_count": null,
   "id": "7c73be3a",
   "metadata": {},
   "outputs": [],
   "source": [
    "# Round up values to the nearest whole number & Convert it to int\n",
    "df['room_has_bathroom'] = (df['bathrooms'] % 1 == 0.5).astype(int)\n",
    "df[\"bathrooms\"] = df[\"bathrooms\"].apply(math.ceil)"
   ]
  },
  {
   "cell_type": "code",
   "execution_count": null,
   "id": "4b186134",
   "metadata": {},
   "outputs": [],
   "source": [
    "# Round up values to the nearest whole number & Convert it to int\n",
    "df[\"floors\"] = df[\"floors\"].apply(math.ceil)"
   ]
  },
  {
   "cell_type": "code",
   "execution_count": null,
   "id": "9efcaf28",
   "metadata": {},
   "outputs": [],
   "source": [
    "# Drop unneeded columns for now.\n",
    "df.drop(columns=[\"id\",\"zipcode\"], inplace = True)"
   ]
  },
  {
   "cell_type": "code",
   "execution_count": null,
   "id": "9a0cd6eb",
   "metadata": {},
   "outputs": [],
   "source": [
    "# Knowing how many rooms with 0 value.\n",
    "print(\"Number of rows containing 0 in 'bedrooms' column:\", (df['bedrooms'] == 0).sum())\n",
    "print(\"Number of rows containing 0 in 'bathrooms' column:\", (df['bathrooms'] == 0).sum())"
   ]
  },
  {
   "cell_type": "code",
   "execution_count": null,
   "id": "4284f30f",
   "metadata": {},
   "outputs": [],
   "source": [
    "# So it turns out it's a very small among of data, so we will drop it.\n",
    "df.drop(df[df['bedrooms'] == 0].index, inplace=True)\n",
    "df.drop(df[df['bathrooms'] == 0].index, inplace=True)\n"
   ]
  },
  {
   "cell_type": "code",
   "execution_count": null,
   "id": "b75be350",
   "metadata": {},
   "outputs": [],
   "source": [
    "# Make the age column to see the age of the building.\n",
    "df[\"age\"] = np.abs(df[\"year\"] - df[\"yr_built\"])\n"
   ]
  },
  {
   "cell_type": "code",
   "execution_count": null,
   "id": "a08d8f5c",
   "metadata": {},
   "outputs": [],
   "source": [
    "# Make the renov_age to see how many years passed since the last renovation.\n",
    "df['renov_age'] = np.abs(df['yr_renovated'] - df['yr_built'])\n",
    "# Make sure if the building hav'nt been renovation before to put the value = 0.\n",
    "df['renov_age'] = df[\"renov_age\"].apply(lambda x: x if len(str(int(x)))==2 else 0.0)"
   ]
  },
  {
   "cell_type": "code",
   "execution_count": null,
   "id": "9cf6c93e",
   "metadata": {},
   "outputs": [],
   "source": [
    "# Showing the house with 33 bedrooms to know whether to change it to 3 or what.\n",
    "df[df['bedrooms'] == 33]"
   ]
  },
  {
   "cell_type": "code",
   "execution_count": null,
   "id": "9e23c047",
   "metadata": {},
   "outputs": [],
   "source": [
    "# Change the outlier value in beedrooms column.\n",
    "df['bedrooms'] = df['bedrooms'].replace(33, 3)\n"
   ]
  },
  {
   "cell_type": "code",
   "execution_count": null,
   "id": "1cea3c37",
   "metadata": {},
   "outputs": [],
   "source": [
    "# Create a new column to put the grades into categoreis.\n",
    "bins = [0, 5, 9, 13]\n",
    "labels = ['Low', 'Avg', 'High']\n",
    "df['grade_group'] = pd.cut(df['grade'], bins=bins, labels=labels, right=True)"
   ]
  },
  {
   "cell_type": "code",
   "execution_count": null,
   "id": "254650a7",
   "metadata": {},
   "outputs": [],
   "source": [
    "# Drop uneedded columns.\n",
    "df.drop(columns=[\"date\",\"grade\",\"yr_built\",\"yr_renovated\"], inplace = True)\n"
   ]
  },
  {
   "cell_type": "code",
   "execution_count": null,
   "id": "6dff3672",
   "metadata": {},
   "outputs": [],
   "source": [
    "df.head()"
   ]
  },
  {
   "cell_type": "code",
   "execution_count": null,
   "id": "58c7c52f",
   "metadata": {},
   "outputs": [],
   "source": [
    "df.info()"
   ]
  },
  {
   "cell_type": "code",
   "execution_count": null,
   "id": "8c51c761",
   "metadata": {},
   "outputs": [],
   "source": [
    "df.describe()"
   ]
  },
  {
   "cell_type": "code",
   "execution_count": null,
   "id": "7261d0a7",
   "metadata": {},
   "outputs": [],
   "source": [
    "\n",
    "df.hist(figsize=(30,20));"
   ]
  },
  {
   "cell_type": "code",
   "execution_count": null,
   "id": "d0f33ac2",
   "metadata": {},
   "outputs": [],
   "source": [
    "sns.histplot(df['price'],kde=True,bins=50);"
   ]
  },
  {
   "cell_type": "code",
   "execution_count": null,
   "id": "056c1280",
   "metadata": {},
   "outputs": [],
   "source": [
    "log_price = np.log1p(df[\"price\"])\n",
    "plt.figure(figsize=(8, 6))\n",
    "plt.hist(log_price, bins=30);"
   ]
  },
  {
   "cell_type": "code",
   "execution_count": null,
   "id": "46c92fba",
   "metadata": {},
   "outputs": [],
   "source": [
    "sns.countplot(x='view',data=df);"
   ]
  },
  {
   "cell_type": "code",
   "execution_count": null,
   "id": "b479277b",
   "metadata": {},
   "outputs": [],
   "source": [
    "sns.countplot(x='waterfront',data=df);"
   ]
  },
  {
   "cell_type": "code",
   "execution_count": null,
   "id": "2b7a0b77",
   "metadata": {},
   "outputs": [],
   "source": [
    "sns.lineplot(x='year',y='price',data=df);"
   ]
  },
  {
   "cell_type": "code",
   "execution_count": null,
   "id": "9d37246c",
   "metadata": {},
   "outputs": [],
   "source": [
    "sns.countplot(x='grade_group',data=df);"
   ]
  },
  {
   "cell_type": "code",
   "execution_count": null,
   "id": "bec0a54f",
   "metadata": {},
   "outputs": [],
   "source": [
    "sns.countplot(x='bathrooms',data=df);"
   ]
  },
  {
   "cell_type": "code",
   "execution_count": null,
   "id": "f4d96acc",
   "metadata": {},
   "outputs": [],
   "source": [
    "sns.countplot(x='floors',data=df);"
   ]
  },
  {
   "cell_type": "code",
   "execution_count": null,
   "id": "462e5d05",
   "metadata": {},
   "outputs": [],
   "source": [
    "sns.countplot(x='condition',data=df);"
   ]
  },
  {
   "cell_type": "code",
   "execution_count": null,
   "id": "fbd1c49e",
   "metadata": {},
   "outputs": [],
   "source": [
    "sns.countplot(x='room_has_bathroom',data=df);"
   ]
  },
  {
   "cell_type": "code",
   "execution_count": null,
   "id": "1210bc8b",
   "metadata": {},
   "outputs": [],
   "source": [
    "# Encoding the grade_group column\n",
    "df_encoded = pd.get_dummies(df, columns=['grade_group'])"
   ]
  },
  {
   "cell_type": "code",
   "execution_count": null,
   "id": "3010cd77",
   "metadata": {},
   "outputs": [],
   "source": [
    "# Show the Correlations for the price.\n",
    "corr_matrix = df_encoded.corr()\n",
    "corr_matrix[\"price\"].sort_values(ascending=False)"
   ]
  },
  {
   "cell_type": "code",
   "execution_count": null,
   "id": "927a402d",
   "metadata": {},
   "outputs": [],
   "source": [
    "plt.figure(figsize=(15, 10))\n",
    "sns.heatmap(corr_matrix, annot=True);"
   ]
  },
  {
   "cell_type": "code",
   "execution_count": null,
   "id": "a5e24788",
   "metadata": {},
   "outputs": [],
   "source": [
    "# Split the data to our feature matrix & taget vector\n",
    "X = df_encoded.drop(columns=[\"price\",\"sqft_living15\",\"sqft_lot15\",\"year\",\"month\"])\n",
    "y = df_encoded[\"price\"]"
   ]
  },
  {
   "cell_type": "code",
   "execution_count": null,
   "id": "f93d7019",
   "metadata": {},
   "outputs": [],
   "source": [
    "# Spliting the do to Training and Testing data (80%, 20%)\n",
    "X_train, X_test, y_train, y_test = train_test_split(X, y, test_size = 0.2, random_state=42)\n",
    "print(\"X_train Shape:\",X_train.shape)\n",
    "print(\"y_train Shape:\",y_train.shape)\n",
    "print(\"X_test Shape:\",X_test.shape)\n",
    "print(\"y_test Shape:\",y_test.shape)"
   ]
  },
  {
   "cell_type": "code",
   "execution_count": null,
   "id": "6a99e889",
   "metadata": {},
   "outputs": [],
   "source": [
    "scaler = StandardScaler()\n",
    "X_train_scaled = scaler.fit_transform(X_train)\n",
    "X_test_scaled = scaler.transform(X_test)\n",
    "y_train_log = np.log1p(y_train)\n",
    "y_test_log = np.log1p(y_test)"
   ]
  },
  {
   "cell_type": "code",
   "execution_count": null,
   "id": "556cecec",
   "metadata": {},
   "outputs": [],
   "source": [
    "from sklearn.impute import SimpleImputer\n",
    "# Impute missing values\n",
    "imputer = SimpleImputer(strategy='mean')\n",
    "X_train_scaled = imputer.fit_transform(X_train_scaled)\n",
    "X_test_scaled = imputer.transform(X_test_scaled)"
   ]
  },
  {
   "cell_type": "code",
   "execution_count": null,
   "id": "82c3a874",
   "metadata": {},
   "outputs": [],
   "source": [
    "pca = PCA(n_components=10)\n",
    "X_train_pca = pca.fit_transform(X_train_scaled)\n",
    "X_test_pca = pca.transform(X_test_scaled)"
   ]
  },
  {
   "cell_type": "code",
   "execution_count": null,
   "id": "9ea1ac78",
   "metadata": {},
   "outputs": [],
   "source": [
    "dt = DecisionTreeRegressor()\n",
    "dt.fit(X_train_pca, y_train_log)"
   ]
  },
  {
   "cell_type": "code",
   "execution_count": null,
   "id": "ad140ee0",
   "metadata": {},
   "outputs": [],
   "source": [
    "pred = dt.predict(X_test_pca)\n",
    "mean_absolute_error(y_test_log,pred)"
   ]
  },
  {
   "cell_type": "code",
   "execution_count": null,
   "id": "ffe04bb3",
   "metadata": {},
   "outputs": [],
   "source": [
    "pred = np.expm1(dt.predict(X_test_pca))\n",
    "mean_absolute_error(np.expm1(y_test_log),pred)"
   ]
  },
  {
   "cell_type": "code",
   "execution_count": null,
   "id": "89845e2f",
   "metadata": {},
   "outputs": [],
   "source": [
    "xgb = XGBRegressor()\n",
    "xgb.fit(X_train_pca, y_train_log)"
   ]
  },
  {
   "cell_type": "code",
   "execution_count": null,
   "id": "13bb385b",
   "metadata": {},
   "outputs": [],
   "source": [
    "pred = xgb.predict(X_test_pca)\n",
    "mean_absolute_error(y_test_log,pred)"
   ]
  },
  {
   "cell_type": "code",
   "execution_count": null,
   "id": "18edf71b",
   "metadata": {},
   "outputs": [],
   "source": [
    "pred = np.expm1(xgb.predict(X_test_pca))\n",
    "mean_absolute_error(np.expm1(y_test_log),pred)"
   ]
  },
  {
   "cell_type": "code",
   "execution_count": null,
   "id": "c1a5bd19",
   "metadata": {},
   "outputs": [],
   "source": [
    "svr = SVR(kernel='rbf')\n",
    "svr.fit(X_train_pca, y_train_log)"
   ]
  },
  {
   "cell_type": "code",
   "execution_count": null,
   "id": "fb3dd2dd",
   "metadata": {},
   "outputs": [],
   "source": [
    "pred = svr.predict(X_test_pca)\n",
    "mean_absolute_error(y_test_log,pred)"
   ]
  },
  {
   "cell_type": "code",
   "execution_count": null,
   "id": "cd8f4a2d",
   "metadata": {},
   "outputs": [],
   "source": [
    "pred = np.expm1(svr.predict(X_test_pca))\n",
    "mean_absolute_error(np.expm1(y_test_log),pred)"
   ]
  },
  {
   "cell_type": "code",
   "execution_count": null,
   "id": "2706db16",
   "metadata": {},
   "outputs": [],
   "source": [
    "param_grid = {'C': [0.1, 1, 10], 'gamma': [0.01, 0.1, 1], 'kernel': ['rbf']}\n",
    "svr = SVR()\n",
    "grid_search = GridSearchCV(svr, param_grid, cv=5)\n",
    "grid_search.fit(X_train_pca, y_train_log)\n",
    "best_params = grid_search.best_params_\n",
    "\n",
    "# 4. Model Training\n",
    "best_svr = SVR(**best_params)\n",
    "best_svr.fit(X_train_pca, y_train_log)\n",
    "\n",
    "# 5. Model Evaluation\n",
    "pred = best_svr.predict(X_test_pca)\n",
    "mae = mean_absolute_error(y_test_log, pred)\n",
    "print(\"Mean Absolute Error:\", mae)"
   ]
  },
  {
   "cell_type": "code",
   "execution_count": null,
   "id": "e7732fdd",
   "metadata": {},
   "outputs": [],
   "source": [
    "best_params"
   ]
  },
  {
   "cell_type": "code",
   "execution_count": null,
   "id": "20dce01a",
   "metadata": {},
   "outputs": [],
   "source": [
    "grid_search.best_score_"
   ]
  },
  {
   "cell_type": "code",
   "execution_count": null,
   "id": "9bfb348a",
   "metadata": {},
   "outputs": [],
   "source": [
    "# Trying the best parameters.\n",
    "svr = SVR(kernel='rbf', C=1,gamma = 0.1)\n",
    "svr.fit(X_train_pca, y_train_log)\n",
    "pred = svr.predict(X_test_pca)\n",
    "mean_absolute_error(y_test_log, pred)"
   ]
  },
  {
   "cell_type": "code",
   "execution_count": null,
   "id": "56b15597",
   "metadata": {},
   "outputs": [],
   "source": [
    "pred = svr.predict(X_train_pca)\n",
    "mean_absolute_error(y_train_log, pred)"
   ]
  },
  {
   "cell_type": "code",
   "execution_count": null,
   "id": "df9048b2",
   "metadata": {},
   "outputs": [],
   "source": [
    "pred = np.expm1(svr.predict(X_test_pca))\n",
    "mean_absolute_error(np.expm1(y_test_log),pred)"
   ]
  },
  {
   "cell_type": "code",
   "execution_count": null,
   "id": "0e3212a1",
   "metadata": {},
   "outputs": [],
   "source": [
    "import pickle\n",
    "\n",
    "pickle.dump(svr,open('lin_model.pkl','wb'))"
   ]
  },
  {
   "cell_type": "code",
   "execution_count": null,
   "id": "960f9fc1",
   "metadata": {},
   "outputs": [],
   "source": []
  }
 ],
 "metadata": {
  "kernelspec": {
   "display_name": "Python 3 (ipykernel)",
   "language": "python",
   "name": "python3"
  },
  "language_info": {
   "codemirror_mode": {
    "name": "ipython",
    "version": 3
   },
   "file_extension": ".py",
   "mimetype": "text/x-python",
   "name": "python",
   "nbconvert_exporter": "python",
   "pygments_lexer": "ipython3",
   "version": "3.10.9"
  }
 },
 "nbformat": 4,
 "nbformat_minor": 5
}
